{
  "nbformat": 4,
  "nbformat_minor": 0,
  "metadata": {
    "colab": {
      "provenance": []
    },
    "kernelspec": {
      "name": "python3",
      "display_name": "Python 3"
    },
    "language_info": {
      "name": "python"
    }
  },
  "cells": [
    {
      "cell_type": "markdown",
      "source": [
        "1.What are data structures, and why are they important?\n",
        "- A data structure is a way of organizing, storing, and managing data so that it can be accessed and modified efficiently. It defines the relationship between data, how the data is processed, and how it is stored in memory.\n",
        "-Importance of Data Structures\n",
        "1.Efficient Data Management - Helps store and organize data for quick access and modification.\n",
        "2.Optimized Performance - Choosing the right data structure improves the efficiency of algorithms (e.g., searching, sorting).\n",
        "3.Memory Management -  Helps in optimizing memory usage by structuring data effectively.\n",
        "\n",
        "2.Explain the difference between mutable and immutable data types with examples?\n",
        "- Property\tMutable Data Types\tImmutable Data Types.\n",
        "1.Definition -\tCan be modified after creation\tCannot be modified after creation\n",
        "2.Modification -\tChanges occur in the same object\tAny modification creates a new object\n",
        "3.Memory Usage -\tEfficient What are the main differences between lists and tuples in Python\n",
        "4.threadSafety -\tNot thread-safe\tThread-safe\n",
        "Examples in Python\tlist, dict, set, bytearray\tint, float, str, tuple, frozenset, bytes.\n",
        "\n",
        "3.What are the main differences between lists and tuples in Python?\n",
        "- Feature\tList (list)\tTuple (tuple)\n",
        "Mutability -\tMutable (can be changed)\tImmutable (cannot be changed)\n",
        "Syntax- Defined using [] (square brackets)\tDefined using () (parentheses)\n",
        "Performance -\tSlower due to dynamic nature\tFaster due to immutability\n",
        "Memory Usage- Uses more memory\tUses less memory\n",
        "Operations Allowed- Can modify (add, remove, update) elements\tCannot modify elements\n",
        "Use Case- When frequent modifications are needed\tWhen data should remain constant.\n",
        "\n",
        "4.Describe how dictionaries store data?\n",
        "- A dictionary (dict) in Python stores data as key-value pairs and provides fast lookups using hashing.\n",
        "1. Dictionary Structure\n",
        "A dictionary consists of:\n",
        "-Keys (immutable types like int, str, tuple)\n",
        "-Values (can be any data type).\n",
        "\n",
        "5.Why might you use a set instead of a list in Python?\n",
        "- A set in Python is an unordered collection of unique elements, whereas a list is an ordered collection that allows duplicates.\n",
        "-Key Reasons to Use a Set Instead of a List\n",
        "Feature\tSet (set)\tList (list)\n",
        "Uniqueness\t✅ Stores only unique elements\t❌ Allows duplicates\n",
        "Performance\t✅ Faster membership testing (O(1))\t❌ Slower membership testing (O(n))\n",
        "Ordering\t❌ Unordered\t✅ Ordered\n",
        "Mutability\t✅ Mutable (can add/remove elements)\t✅ Mutable\n",
        "Duplicates Handling\t✅ Automatically removes duplicates\t❌ Manual removal needed\n",
        "Use Case\tWhen unique elements are required\tWhen ordering & duplicates matter.\n",
        "\n",
        "6.What is a string in Python, and how is it different from a list?\n",
        "- Feature\tString (str)\tList (list)\n",
        "Data Type\tStores characters\tStores any data type (numbers, strings, objects, etc.)\n",
        "Mutability\tImmutable (cannot be modified)\tMutable (can be modified)\n",
        "Modification\tCreating a new string is required\tElements can be changed in place\n",
        "Indexing & Slicing\t✅ Supports indexing & slicing\t✅ Supports indexing & slicing\n",
        "Iteration\t✅ Can be iterated character by character\t✅ Can be iterated element by element\n",
        "Concatenation\tUses + to create a new string\tUses + or .append() to modify the list\n",
        "Use Case\tStoring and manipulating text\tStoring collections of various elements.\n",
        "\n",
        "7.How do tuples ensure data integrity in Python?\n",
        "- A tuple in Python is an immutable sequence, meaning once it is created, it cannot be modified. This immutability provides several benefits in ensuring data integrity.\n",
        "1. Immutability Prevents Unintended Changes\n",
        "Unlike lists, tuples cannot be modified after creation.\n",
        "-This prevents accidental overwrites, making data more secure and consistent.\n",
        "\n",
        "8.What is a hash table, and how does it relate to dictionaries in Python?\n",
        "- A hash table (or hash map) is a data structure that stores key-value pairs and enables fast lookups, insertions, and deletions using a hashing function.\n",
        "How Does a Hash Table Work?\n",
        "Hash Function:\n",
        "Converts a key into a numerical hash value.\n",
        "Example: hash(\"name\") → 23456789\n",
        "Index Mapping:\n",
        "The hash value is mapped to an index in an underlying array.\n",
        "Handling Collisions:\n",
        "If two keys produce the same hash, Python uses open addressing (probing) to find the next available slot.\n",
        "\n",
        "9.Can lists contain different data types in Python?\n",
        "- yes! In Python, lists can store elements of different data types, including integers, floats, strings, booleans, objects, other lists, and even functions.\n",
        "\n",
        "10.Explain why strings are immutable in Python?\n",
        "- in Python, strings are immutable, meaning once created, they cannot be modified. If you try to change a string, Python creates a new string instead of modifying the original.\n",
        "1. Memory Efficiency (String Interning)\n",
        "Python internally optimizes memory usage by storing identical strings at the same location (string interning).\n",
        "\n",
        "11. What advantages do dictionaries offer over lists for certain tasks?\n",
        "- Dictionaries (dict) and lists (list) are both powerful data structures in Python, but dictionaries offer key advantages over lists for certain tasks.\n",
        "1. Faster Lookups (O(1) vs O(n))\n",
        "Dictionaries: Use hashing, so lookups are O(1) (constant time).\n",
        "-Lists: Require O(n) time, as Python must scan elements one by one.\n",
        "\n",
        "12. Describe a scenario where using a tuple would be preferable over a list?\n",
        "- cenario: Storing GPS Coordinates (Latitude, Longitude)\n",
        "Imagine you are developing a navigation system or mapping application where you need to store fixed GPS coordinates (latitude, longitude) for various locations.\n",
        "✅ Why Use a Tuple?\n",
        "Immutability: Coordinates should never change accidentally once set.\n",
        "Faster Performance: Tuples are faster than lists for accessing elements.\n",
        "Safe Dictionary Keys: Tuples can be used as keys in dictionaries, while lists cannot.\n",
        "\n",
        "13.How do sets handle duplicate values in Python?\n",
        "- In Python, sets automatically remove duplicate values because they are unordered collections of unique elements.\n",
        "1. Sets Store Only Unique Elements\n",
        "If you try to add duplicate values to a set, Python automatically removes the duplicates.\n",
        "\n",
        "14.How does the “in” keyword work differently for lists and dictionaries?\n",
        "- The in keyword is used to check if an element exists in a list or a dictionary, but it works differently for each data type.\n",
        "1. in for Lists - Searches All Elements (O(n))\n",
        "When using in with a list, Python checks each element one by one (linear search).\n",
        "This means the time complexity is O(n) (slow for large lists).\n",
        "\n",
        "15. Can you modify the elements of a tuple? Explain why or why not?\n",
        "- No, you cannot modify elements of a tuple in Python because tuples are immutable. Once a tuple is created, its elements cannot be changed, added, or removed.\n",
        "Why Are Tuples Immutable?\n",
        "Memory Optimization - Tuples allow Python to optimize storage and improve performance.\n",
        "Data Integrity -  Prevents accidental changes to data.\n",
        "Hashability -  Tuples can be used as dictionary keys and set elements, unlike lists.\n",
        "\n",
        "16.What is a nested dictionary, and give an example of its use case?\n",
        "- A nested dictionary is a dictionary inside another dictionary. It allows you to store data in a hierarchical (structured) way.\n",
        "use example:\n",
        "\n",
        "\n",
        "\n",
        "\n",
        "\n"
      ],
      "metadata": {
        "id": "g5Zi-ycFfiNY"
      }
    },
    {
      "cell_type": "code",
      "source": [
        "students = {\n",
        "    \"Alice\": {\"age\": 20, \"grade\": \"A\", \"subjects\": [\"Math\", \"Science\"]},\n",
        "    \"Bob\": {\"age\": 22, \"grade\": \"B\", \"subjects\": [\"History\", \"English\"]},\n",
        "}\n",
        "\n",
        "# Accessing nested values\n",
        "print(students[\"Alice\"][\"grade\"])   # Output: A\n",
        "print(students[\"Bob\"][\"subjects\"])  # Output: ['History', 'English']\n"
      ],
      "metadata": {
        "colab": {
          "base_uri": "https://localhost:8080/"
        },
        "id": "mFDJzbK7o5mG",
        "outputId": "8b933a2f-274e-4c52-b826-e1dcddf51149"
      },
      "execution_count": 1,
      "outputs": [
        {
          "output_type": "stream",
          "name": "stdout",
          "text": [
            "A\n",
            "['History', 'English']\n"
          ]
        }
      ]
    },
    {
      "cell_type": "markdown",
      "source": [
        "17.Describe the time complexity of accessing elements in a dictionary?\n",
        "- In Python, dictionaries are implemented as hash tables, making element access extremely fast.\n",
        "1. Average Case: O(1) (Constant Time)\n",
        "Dictionaries use hashing, so key lookups are O(1) on average.\n",
        "-This means that no matter how large the dictionary is, accessing an element takes roughly the same amount of time.\n",
        "\n",
        "18.In what situations are lists preferred over dictionaries?\n",
        "- While dictionaries are great for fast lookups and structured data, lists are better in certain situations. Here are key cases where lists are preferred over dictionaries:\n",
        "1. Maintaining Order (Before Python 3.7)\n",
        "Lists preserve the order of elements naturally.\n",
        "Dictionaries (before Python 3.7) didn't guarantee order.\n",
        "If order is important, a list is often the better choice\n",
        "\n",
        "19.Why are dictionaries considered unordered, and how does that affect data retrieval?\n",
        "- . Dictionaries Were Traditionally Unordered\n",
        "In Python versions before 3.7, dictionaries did not maintain the order of inserted key-value pairs.\n",
        "They used hash tables, meaning the order of elements was based on the internal hashing mechanism, not insertion order.\n",
        "2. Python 3.7+ Maintains Insertion Order\n",
        "Starting from Python 3.7, dictionaries retain insertion order, meaning elements are retrieved in the order they were added.\n",
        "In Python 3.6, this behavior was present but was considered an implementation detail, not a guarantee.\n",
        "\n",
        "20. Explain the difference between a list and a dictionary in terms of data retrieval?\n",
        "- 1. Data Retrieval in a List (O(n))\n",
        "Lists store elements sequentially (indexed by position).\n",
        "To retrieve an element, you use index-based access (O(1)).\n",
        "Searching for an element without knowing its index requires scanning the list .\n",
        "2.Data Retrieval in a Dictionary (O(1))\n",
        "Dictionaries store data as key-value pairs.\n",
        "Retrieval is done by keys, not indexes.\n",
        "Fast lookups (O(1)) due to hash-based indexing.\n"
      ],
      "metadata": {
        "id": "PJs39YDXpURT"
      }
    },
    {
      "cell_type": "markdown",
      "source": [
        "1.Write a code to create a string with your name and print it?"
      ],
      "metadata": {
        "id": "cig3C7-rubik"
      }
    },
    {
      "cell_type": "code",
      "source": [
        "name = \"Chandra Kant Sharma\"\n",
        "\n",
        "print(name)\n"
      ],
      "metadata": {
        "colab": {
          "base_uri": "https://localhost:8080/"
        },
        "id": "WK220LbYuve2",
        "outputId": "0c6efcbc-9d6a-4884-c64d-8b9de1650dec"
      },
      "execution_count": 2,
      "outputs": [
        {
          "output_type": "stream",
          "name": "stdout",
          "text": [
            "Chandra Kant Sharma\n"
          ]
        }
      ]
    },
    {
      "cell_type": "markdown",
      "source": [
        "2.Write a code to find the length of the string \"Hello World\"?"
      ],
      "metadata": {
        "id": "tyxOVUvzwREA"
      }
    },
    {
      "cell_type": "code",
      "source": [
        "text = \"Hello World\"\n",
        "\n",
        "length = len(text)\n",
        "\n",
        "print(\"Length of the string:\", length)\n"
      ],
      "metadata": {
        "colab": {
          "base_uri": "https://localhost:8080/"
        },
        "id": "or2agdB-wcsg",
        "outputId": "55aba11a-9c60-448b-d888-085b262438e6"
      },
      "execution_count": 3,
      "outputs": [
        {
          "output_type": "stream",
          "name": "stdout",
          "text": [
            "Length of the string: 11\n"
          ]
        }
      ]
    },
    {
      "cell_type": "markdown",
      "source": [
        "3.Write a code to slice the first 3 characters from the string \"Python Programming\"?"
      ],
      "metadata": {
        "id": "A4nbQ0EAwlbN"
      }
    },
    {
      "cell_type": "code",
      "source": [
        "text = \"Python Programming\"\n",
        "\n",
        "first_three_chars = text[:3]\n",
        "\n",
        "print(\"First 3 characters:\", first_three_chars)\n"
      ],
      "metadata": {
        "colab": {
          "base_uri": "https://localhost:8080/"
        },
        "id": "SIToM4s7wsiA",
        "outputId": "66d283b9-fa2c-4ab4-f6a8-6e23c6f3d85e"
      },
      "execution_count": 4,
      "outputs": [
        {
          "output_type": "stream",
          "name": "stdout",
          "text": [
            "First 3 characters: Pyt\n"
          ]
        }
      ]
    },
    {
      "cell_type": "markdown",
      "source": [
        "4.Write a code to convert the string \"hello\" to uppercase?"
      ],
      "metadata": {
        "id": "1FyiH5Xqw63d"
      }
    },
    {
      "cell_type": "code",
      "source": [
        "text = \"hello\"\n",
        "\n",
        "uppercase_text = text.upper()\n",
        "\n",
        "print(\"Uppercase string:\", uppercase_text)\n"
      ],
      "metadata": {
        "colab": {
          "base_uri": "https://localhost:8080/"
        },
        "id": "KeF7w9-sxCoY",
        "outputId": "73e064b7-56a5-4673-92c2-f5990959df7c"
      },
      "execution_count": 5,
      "outputs": [
        {
          "output_type": "stream",
          "name": "stdout",
          "text": [
            "Uppercase string: HELLO\n"
          ]
        }
      ]
    },
    {
      "cell_type": "markdown",
      "source": [
        "5.Write a code to replace the word \"apple\" with \"orange\" in the string \"I like apple\"?"
      ],
      "metadata": {
        "id": "uYGCUOZ5xKaW"
      }
    },
    {
      "cell_type": "code",
      "source": [
        "text = \"I like apple\"\n",
        "\n",
        "new_text = text.replace(\"apple\", \"orange\")\n",
        "\n",
        "print(new_text)\n"
      ],
      "metadata": {
        "colab": {
          "base_uri": "https://localhost:8080/"
        },
        "id": "FlGYUsEBxRtU",
        "outputId": "0f9a3d82-9b3a-4b77-99e0-53b95b0c0a5e"
      },
      "execution_count": 6,
      "outputs": [
        {
          "output_type": "stream",
          "name": "stdout",
          "text": [
            "I like orange\n"
          ]
        }
      ]
    },
    {
      "cell_type": "markdown",
      "source": [
        "6.Write a code to create a list with numbers 1 to 5 and print it?"
      ],
      "metadata": {
        "id": "V5Q4tT4axYvk"
      }
    },
    {
      "cell_type": "code",
      "source": [
        "numbers = [1, 2, 3, 4, 5]\n",
        "\n",
        "print(\"List of numbers:\", numbers)\n"
      ],
      "metadata": {
        "colab": {
          "base_uri": "https://localhost:8080/"
        },
        "id": "mtyTYpdixeFl",
        "outputId": "1b244d22-3523-49a0-8983-7f836e65237f"
      },
      "execution_count": 7,
      "outputs": [
        {
          "output_type": "stream",
          "name": "stdout",
          "text": [
            "List of numbers: [1, 2, 3, 4, 5]\n"
          ]
        }
      ]
    },
    {
      "cell_type": "markdown",
      "source": [
        "7.Write a code to append the number 10 to the list [1, 2, 3, 4]?"
      ],
      "metadata": {
        "id": "BXX4XFXAxni5"
      }
    },
    {
      "cell_type": "code",
      "source": [
        "numbers = [1, 2, 3, 4]\n",
        "\n",
        "numbers.append(10)\n",
        "\n",
        "print(\"Updated list:\", numbers)\n"
      ],
      "metadata": {
        "colab": {
          "base_uri": "https://localhost:8080/"
        },
        "id": "qPMQ9nhTxwNm",
        "outputId": "771a6c74-336d-44df-fba5-868b6bc6b9b8"
      },
      "execution_count": 8,
      "outputs": [
        {
          "output_type": "stream",
          "name": "stdout",
          "text": [
            "Updated list: [1, 2, 3, 4, 10]\n"
          ]
        }
      ]
    },
    {
      "cell_type": "markdown",
      "source": [
        "8.Write a code to remove the number 3 from the list [1, 2, 3, 4, 5]?"
      ],
      "metadata": {
        "id": "DK5ZwAOJx5ab"
      }
    },
    {
      "cell_type": "code",
      "source": [
        "numbers = [1, 2, 3, 4, ]\n",
        "numbers.remove(3)\n",
        "\n",
        "print(\"Updated list:\", numbers)\n"
      ],
      "metadata": {
        "colab": {
          "base_uri": "https://localhost:8080/"
        },
        "id": "WR2xwr4rx_dV",
        "outputId": "cbef5c4f-c76c-4aeb-9016-b07db0fc3c76"
      },
      "execution_count": 9,
      "outputs": [
        {
          "output_type": "stream",
          "name": "stdout",
          "text": [
            "Updated list: [1, 2, 4]\n"
          ]
        }
      ]
    },
    {
      "cell_type": "markdown",
      "source": [
        "9.Write a code to access the second element in the list ['a', 'b', 'c', 'd']?"
      ],
      "metadata": {
        "id": "Ph50RL1GyHBB"
      }
    },
    {
      "cell_type": "code",
      "source": [
        "letters = ['a', 'b', 'c', 'd']\n",
        "\n",
        "second_element = letters[1]\n",
        "\n",
        "print(\"Second element:\", second_element)\n"
      ],
      "metadata": {
        "colab": {
          "base_uri": "https://localhost:8080/"
        },
        "id": "nAZDluJjyMdy",
        "outputId": "208cb00b-a248-4275-b32f-557e09182a1e"
      },
      "execution_count": 10,
      "outputs": [
        {
          "output_type": "stream",
          "name": "stdout",
          "text": [
            "Second element: b\n"
          ]
        }
      ]
    },
    {
      "cell_type": "markdown",
      "source": [
        "10.Write a code to reverse the list [10, 20, 30, 40, 50]?"
      ],
      "metadata": {
        "id": "iFOmhcdOySye"
      }
    },
    {
      "cell_type": "code",
      "source": [
        "numbers = [10, 20, 30, 40, 50]\n",
        "\n",
        "numbers.reverse()\n",
        "\n",
        "print(\"Reversed list:\", numbers)\n"
      ],
      "metadata": {
        "colab": {
          "base_uri": "https://localhost:8080/"
        },
        "id": "1SH_vIYyycDT",
        "outputId": "903c65c4-c14f-45fc-9bdd-fe6126151bf2"
      },
      "execution_count": 11,
      "outputs": [
        {
          "output_type": "stream",
          "name": "stdout",
          "text": [
            "Reversed list: [50, 40, 30, 20, 10]\n"
          ]
        }
      ]
    },
    {
      "cell_type": "markdown",
      "source": [
        " 11.Write a code to create a tuple with the elements 100, 200, 300 and print it.?"
      ],
      "metadata": {
        "id": "ID56ZEPx1caf"
      }
    },
    {
      "cell_type": "code",
      "source": [
        "my_tuple = (100, 200, 300)\n",
        "\n",
        "print(\"Tuple:\", my_tuple)\n"
      ],
      "metadata": {
        "colab": {
          "base_uri": "https://localhost:8080/"
        },
        "id": "bCoBVVGe1mp0",
        "outputId": "ef18f2d6-f09b-4b73-f596-db007f4e9532"
      },
      "execution_count": 12,
      "outputs": [
        {
          "output_type": "stream",
          "name": "stdout",
          "text": [
            "Tuple: (100, 200, 300)\n"
          ]
        }
      ]
    },
    {
      "cell_type": "markdown",
      "source": [
        "12.. Write a code to access the second-to-last element of the tuple ('red', 'green', 'blue', 'yellow').?"
      ],
      "metadata": {
        "id": "aD_DdfT81ro_"
      }
    },
    {
      "cell_type": "code",
      "source": [
        "colors = ('red', 'green', 'blue', 'yellow')\n",
        "\n",
        "second_to_last = colors[-2]\n",
        "\n",
        "print(\"Second-to-last element:\", second_to_last)\n"
      ],
      "metadata": {
        "colab": {
          "base_uri": "https://localhost:8080/"
        },
        "id": "d153Tv_710G9",
        "outputId": "52ca70d9-142e-4e95-e2be-4678d59c76c7"
      },
      "execution_count": 13,
      "outputs": [
        {
          "output_type": "stream",
          "name": "stdout",
          "text": [
            "Second-to-last element: blue\n"
          ]
        }
      ]
    },
    {
      "cell_type": "markdown",
      "source": [
        "13.Write a code to find the minimum number in the tuple (10, 20, 5, 15)?"
      ],
      "metadata": {
        "id": "Ne47V8Vk16oF"
      }
    },
    {
      "cell_type": "code",
      "source": [
        "numbers = (10, 20, 5, 15)\n",
        "\n",
        "min_number = min(numbers)\n",
        "\n",
        "print(\"Minimum number:\", min_number)\n"
      ],
      "metadata": {
        "colab": {
          "base_uri": "https://localhost:8080/"
        },
        "id": "qvqIIMQs2BNV",
        "outputId": "913fc84f-8599-4134-e009-6a667548811c"
      },
      "execution_count": 14,
      "outputs": [
        {
          "output_type": "stream",
          "name": "stdout",
          "text": [
            "Minimum number: 5\n"
          ]
        }
      ]
    },
    {
      "cell_type": "markdown",
      "source": [
        "14. Write a code to find the index of the element \"cat\" in the tuple ('dog', 'cat', 'rabbit').?"
      ],
      "metadata": {
        "id": "eKEG6VtD2HlT"
      }
    },
    {
      "cell_type": "code",
      "source": [
        "animals = ('dog', 'cat', 'rabbit')\n",
        "\n",
        "index_of_cat = animals.index('cat')\n",
        "\n",
        "print(\"Index of 'cat':\", index_of_cat)\n"
      ],
      "metadata": {
        "colab": {
          "base_uri": "https://localhost:8080/"
        },
        "id": "-UwcLtgS2OvD",
        "outputId": "fe3beb5e-149d-4250-8ee4-25a6c8b715a9"
      },
      "execution_count": 15,
      "outputs": [
        {
          "output_type": "stream",
          "name": "stdout",
          "text": [
            "Index of 'cat': 1\n"
          ]
        }
      ]
    },
    {
      "cell_type": "markdown",
      "source": [
        "15. Write a code to create a tuple containing three different fruits and check if \"kiwi\" is in it.?"
      ],
      "metadata": {
        "id": "d53DQBgJ2asi"
      }
    },
    {
      "cell_type": "code",
      "source": [
        "fruits = (\"apple\", \"banana\", \"cherry\")\n",
        "\n",
        "is_kiwi_present = \"kiwi\" in fruits\n",
        "\n",
        "print(\"Is 'kiwi' in the tuple?\", is_kiwi_present)\n"
      ],
      "metadata": {
        "colab": {
          "base_uri": "https://localhost:8080/"
        },
        "id": "E_GR66dm2iXi",
        "outputId": "a6cb4f05-406b-48e3-aefb-22ed3e0fdcf1"
      },
      "execution_count": 16,
      "outputs": [
        {
          "output_type": "stream",
          "name": "stdout",
          "text": [
            "Is 'kiwi' in the tuple? False\n"
          ]
        }
      ]
    },
    {
      "cell_type": "markdown",
      "source": [
        "16. Write a code to create a set with the elements 'a', 'b', 'c' and print it.\n",
        "\n"
      ],
      "metadata": {
        "id": "byhCzY1w2po4"
      }
    },
    {
      "cell_type": "code",
      "source": [
        "my_set = {'a', 'b', 'c'}\n",
        "\n",
        "print(\"Set:\", my_set)\n"
      ],
      "metadata": {
        "colab": {
          "base_uri": "https://localhost:8080/"
        },
        "id": "XXs6x-VR2xQu",
        "outputId": "587b9b38-cf22-4725-9da7-40790935de30"
      },
      "execution_count": 17,
      "outputs": [
        {
          "output_type": "stream",
          "name": "stdout",
          "text": [
            "Set: {'a', 'b', 'c'}\n"
          ]
        }
      ]
    },
    {
      "cell_type": "markdown",
      "source": [
        "17.Write a code to clear all elements from the set {1, 2, 3, 4, 5}?"
      ],
      "metadata": {
        "id": "ZPPLDcK223C-"
      }
    },
    {
      "cell_type": "code",
      "source": [
        "numbers = {1, 2, 3, 4, 5}\n",
        "\n",
        "numbers.clear()\n",
        "\n",
        "print(\"Set after clearing:\", numbers)\n"
      ],
      "metadata": {
        "colab": {
          "base_uri": "https://localhost:8080/"
        },
        "id": "kmbLCdzM2_Oh",
        "outputId": "6a6fc480-31b7-46e3-f21f-787e9a284077"
      },
      "execution_count": 18,
      "outputs": [
        {
          "output_type": "stream",
          "name": "stdout",
          "text": [
            "Set after clearing: set()\n"
          ]
        }
      ]
    },
    {
      "cell_type": "markdown",
      "source": [
        "18. Write a code to remove the element 4 from the set {1, 2, 3, 4}.?"
      ],
      "metadata": {
        "id": "kO_jqQUD3G8Z"
      }
    },
    {
      "cell_type": "code",
      "source": [
        "numbers = {1, 2, 3, 4}\n",
        "\n",
        "numbers.remove(4)\n",
        "print(\"Set after removing 4:\", numbers)\n"
      ],
      "metadata": {
        "colab": {
          "base_uri": "https://localhost:8080/"
        },
        "id": "uLv_kvy03Ov_",
        "outputId": "9915ec87-0df7-4e1d-ebb3-f21591cce6f3"
      },
      "execution_count": 19,
      "outputs": [
        {
          "output_type": "stream",
          "name": "stdout",
          "text": [
            "Set after removing 4: {1, 2, 3}\n"
          ]
        }
      ]
    },
    {
      "cell_type": "markdown",
      "source": [
        "19. Write a code to find the union of two sets {1, 2, 3} and {3, 4, 5}."
      ],
      "metadata": {
        "id": "ByLZjkYe3YfK"
      }
    },
    {
      "cell_type": "code",
      "source": [
        "set1 = {1, 2, 3}\n",
        "set2 = {3, 4, 5}\n",
        "\n",
        "union_set = set1.union(set2)\n",
        "\n",
        "print(\"Union of sets:\", union_set)\n"
      ],
      "metadata": {
        "colab": {
          "base_uri": "https://localhost:8080/"
        },
        "id": "yYZVTCtw3gwT",
        "outputId": "5729229b-bb1b-40b3-ae4a-792be7fbf71d"
      },
      "execution_count": 20,
      "outputs": [
        {
          "output_type": "stream",
          "name": "stdout",
          "text": [
            "Union of sets: {1, 2, 3, 4, 5}\n"
          ]
        }
      ]
    },
    {
      "cell_type": "markdown",
      "source": [
        "20. Write a code to find the intersection of two sets {1, 2, 3} and {2, 3, 4}.?"
      ],
      "metadata": {
        "id": "k2-Ex2bM3ut4"
      }
    },
    {
      "cell_type": "code",
      "source": [
        "set1 = {1, 2, 3}\n",
        "set2 = {2, 3, 4}\n",
        "intersection_set = set1.intersection(set2)\n",
        "\n",
        "print(\"Intersection of sets:\", intersection_set)\n"
      ],
      "metadata": {
        "colab": {
          "base_uri": "https://localhost:8080/"
        },
        "id": "0hS4h2_i30QJ",
        "outputId": "bc6ed2a1-bd02-4a01-9806-014489b15e0d"
      },
      "execution_count": 21,
      "outputs": [
        {
          "output_type": "stream",
          "name": "stdout",
          "text": [
            "Intersection of sets: {2, 3}\n"
          ]
        }
      ]
    },
    {
      "cell_type": "markdown",
      "source": [
        "21.Write a code to create a dictionary with the keys \"name\", \"age\", and \"city\", and print it?"
      ],
      "metadata": {
        "id": "PJLHWdrf4BNw"
      }
    },
    {
      "cell_type": "code",
      "source": [
        "person = {\n",
        "    \"name\": \"John\",\n",
        "    \"age\": 25,\n",
        "    \"city\": \"New York\"\n",
        "}\n",
        "\n",
        "print(\"Dictionary:\", person)\n"
      ],
      "metadata": {
        "colab": {
          "base_uri": "https://localhost:8080/"
        },
        "id": "t1HQ0i8v4JAp",
        "outputId": "cf3241cb-280b-4220-966d-a0dd9d554000"
      },
      "execution_count": 22,
      "outputs": [
        {
          "output_type": "stream",
          "name": "stdout",
          "text": [
            "Dictionary: {'name': 'John', 'age': 25, 'city': 'New York'}\n"
          ]
        }
      ]
    },
    {
      "cell_type": "markdown",
      "source": [
        "22.Write a code to add a new key-value pair \"country\": \"USA\" to the dictionary {'name': 'John', 'age': 25}.?"
      ],
      "metadata": {
        "id": "dvgU5bd44PL_"
      }
    },
    {
      "cell_type": "code",
      "source": [
        "person = {\n",
        "    \"name\": \"John\",\n",
        "    \"age\": 25,\n",
        "    \"city\": \"New York\"\n",
        "}\n",
        "\n",
        "print(\"Dictionary:\", person)\n"
      ],
      "metadata": {
        "colab": {
          "base_uri": "https://localhost:8080/"
        },
        "id": "APrzdXLc4dk0",
        "outputId": "5fe33fb2-6ff4-41ca-d1c8-43971447f5e2"
      },
      "execution_count": 23,
      "outputs": [
        {
          "output_type": "stream",
          "name": "stdout",
          "text": [
            "Dictionary: {'name': 'John', 'age': 25, 'city': 'New York'}\n"
          ]
        }
      ]
    },
    {
      "cell_type": "markdown",
      "source": [
        "23.Write a code to access the value associated with the key \"name\" in the dictionary {'name': 'Alice', 'age': 30}.?\n",
        "\n"
      ],
      "metadata": {
        "id": "NNFz6DLV41vO"
      }
    },
    {
      "cell_type": "code",
      "source": [
        "person = {'name': 'Alice', 'age': 30}\n",
        "\n",
        "name_value = person['name']\n",
        "\n",
        "print(\"Name:\", name_value)\n"
      ],
      "metadata": {
        "colab": {
          "base_uri": "https://localhost:8080/"
        },
        "id": "SxOxkVjf49-O",
        "outputId": "21439be5-18c8-4ace-df66-f735b546a751"
      },
      "execution_count": 24,
      "outputs": [
        {
          "output_type": "stream",
          "name": "stdout",
          "text": [
            "Name: Alice\n"
          ]
        }
      ]
    },
    {
      "cell_type": "markdown",
      "source": [
        "24.Write a code to remove the key \"age\" from the dictionary {'name': 'Bob', 'age': 22, 'city': 'New York'}.?"
      ],
      "metadata": {
        "id": "glnr4viw5GkI"
      }
    },
    {
      "cell_type": "code",
      "source": [
        "person = {'name': 'Bob', 'age': 22, 'city': 'New York'}\n",
        "removed_value = person.pop('age')\n",
        "\n",
        "print(\"Updated dictionary:\", person)\n",
        "\n",
        "print(\"Removed value:\", removed_value)\n"
      ],
      "metadata": {
        "colab": {
          "base_uri": "https://localhost:8080/"
        },
        "id": "xFuCnQ_j5MaW",
        "outputId": "9970e6e8-a72a-412b-de2c-8b27538690c5"
      },
      "execution_count": 25,
      "outputs": [
        {
          "output_type": "stream",
          "name": "stdout",
          "text": [
            "Updated dictionary: {'name': 'Bob', 'city': 'New York'}\n",
            "Removed value: 22\n"
          ]
        }
      ]
    },
    {
      "cell_type": "markdown",
      "source": [
        "25.Write a code to check if the key \"city\" exists in the dictionary {'name': 'Alice', 'city': 'Paris'}.?"
      ],
      "metadata": {
        "id": "RwM8dEJe5feQ"
      }
    },
    {
      "cell_type": "code",
      "source": [
        "person = {'name': 'Alice', 'city': 'Paris'}\n",
        "\n",
        "if 'city' in person:\n",
        "    print(\"The key 'city' exists in the dictionary.\")\n",
        "else:\n",
        "    print(\"The key 'city' does not exist in the dictionary.\")\n"
      ],
      "metadata": {
        "colab": {
          "base_uri": "https://localhost:8080/"
        },
        "id": "oDENuxil5m46",
        "outputId": "67aa21de-1700-4631-9472-0f2666752657"
      },
      "execution_count": 26,
      "outputs": [
        {
          "output_type": "stream",
          "name": "stdout",
          "text": [
            "The key 'city' exists in the dictionary.\n"
          ]
        }
      ]
    },
    {
      "cell_type": "markdown",
      "source": [
        "26. Write a code to create a list, a tuple, and a dictionary, and print them all.?"
      ],
      "metadata": {
        "id": "NUcHc9Wx5wHp"
      }
    },
    {
      "cell_type": "code",
      "source": [
        "my_list = [1, 2, 3, 4, 5]\n",
        "\n",
        "my_tuple = ('apple', 'banana', 'cherry')\n",
        "\n",
        "my_dict = {\n",
        "    \"name\": \"Alice\",\n",
        "    \"age\": 30,\n",
        "    \"city\": \"Paris\"\n",
        "}\n",
        "\n",
        "print(\"List:\", my_list)\n",
        "print(\"Tuple:\", my_tuple)\n",
        "print(\"Dictionary:\", my_dict)\n"
      ],
      "metadata": {
        "colab": {
          "base_uri": "https://localhost:8080/"
        },
        "id": "n4LFN4oy54fb",
        "outputId": "9fe7b45f-1de0-4951-bc30-30ef56015c51"
      },
      "execution_count": 27,
      "outputs": [
        {
          "output_type": "stream",
          "name": "stdout",
          "text": [
            "List: [1, 2, 3, 4, 5]\n",
            "Tuple: ('apple', 'banana', 'cherry')\n",
            "Dictionary: {'name': 'Alice', 'age': 30, 'city': 'Paris'}\n"
          ]
        }
      ]
    },
    {
      "cell_type": "markdown",
      "source": [
        "27.Write a code to create a list of 5 random numbers between 1 and 100, sort it in ascending order, and print the\n",
        "result.(replaced)?"
      ],
      "metadata": {
        "id": "Xc9ioQQl6FzN"
      }
    },
    {
      "cell_type": "code",
      "source": [
        "import random\n",
        "\n",
        "random_numbers = random.sample(range(1, 101), 5)\n",
        "\n",
        "random_numbers.sort()\n",
        "\n",
        "print(\"Sorted random numbers:\", random_numbers)\n"
      ],
      "metadata": {
        "colab": {
          "base_uri": "https://localhost:8080/"
        },
        "id": "4VBX7fUX6LOC",
        "outputId": "d08f8145-4dca-43ff-e486-f14e58a0b63a"
      },
      "execution_count": 28,
      "outputs": [
        {
          "output_type": "stream",
          "name": "stdout",
          "text": [
            "Sorted random numbers: [6, 15, 72, 73, 79]\n"
          ]
        }
      ]
    },
    {
      "cell_type": "markdown",
      "source": [
        "28. Write a code to create a list with strings and print the element at the third index?"
      ],
      "metadata": {
        "id": "q0yws_Y66cC4"
      }
    },
    {
      "cell_type": "code",
      "source": [
        "fruits = [\"apple\", \"banana\", \"cherry\", \"mango\", \"orange\"]\n",
        "\n",
        "print(\"Element at index 3:\", fruits[3])\n"
      ],
      "metadata": {
        "colab": {
          "base_uri": "https://localhost:8080/"
        },
        "id": "twsxo1ye6dj6",
        "outputId": "c8c1ff26-4787-4e93-cbde-1668642bdf41"
      },
      "execution_count": 29,
      "outputs": [
        {
          "output_type": "stream",
          "name": "stdout",
          "text": [
            "Element at index 3: mango\n"
          ]
        }
      ]
    },
    {
      "cell_type": "markdown",
      "source": [
        "29. Write a code to combine two dictionaries into one and print the result.?"
      ],
      "metadata": {
        "id": "qYu5Xk606kPk"
      }
    },
    {
      "cell_type": "code",
      "source": [
        "dict1 = {\"a\": 1, \"b\": 2}\n",
        "dict2 = {\"c\": 3, \"d\": 4}\n",
        "\n",
        "dict1.update(dict2)\n",
        "\n",
        "print(\"Combined Dictionary:\", dict1)\n"
      ],
      "metadata": {
        "colab": {
          "base_uri": "https://localhost:8080/"
        },
        "id": "-_0CjonD6vFW",
        "outputId": "924a9582-c476-45a6-fa7b-b4d3572cf733"
      },
      "execution_count": 30,
      "outputs": [
        {
          "output_type": "stream",
          "name": "stdout",
          "text": [
            "Combined Dictionary: {'a': 1, 'b': 2, 'c': 3, 'd': 4}\n"
          ]
        }
      ]
    },
    {
      "cell_type": "markdown",
      "source": [
        "30. Write a code to convert a list of strings into a set.?"
      ],
      "metadata": {
        "id": "awx1U2CX61xA"
      }
    },
    {
      "cell_type": "code",
      "source": [
        "fruits = [\"apple\", \"banana\", \"cherry\", \"apple\", \"banana\"]\n",
        "\n",
        "fruits_set = set(fruits)\n",
        "\n",
        "print(\"Set of unique strings:\", fruits_set)\n"
      ],
      "metadata": {
        "colab": {
          "base_uri": "https://localhost:8080/"
        },
        "id": "SAFxMVkl68KY",
        "outputId": "ab2bc1fd-1109-4134-8eb5-9ac0d52faebb"
      },
      "execution_count": 31,
      "outputs": [
        {
          "output_type": "stream",
          "name": "stdout",
          "text": [
            "Set of unique strings: {'apple', 'cherry', 'banana'}\n"
          ]
        }
      ]
    }
  ]
}